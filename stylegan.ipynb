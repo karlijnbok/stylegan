{
  "nbformat": 4,
  "nbformat_minor": 0,
  "metadata": {
    "colab": {
      "name": "stylegan.ipynb",
      "provenance": [],
      "collapsed_sections": [],
      "include_colab_link": true
    },
    "kernelspec": {
      "name": "python3",
      "display_name": "Python 3"
    },
    "accelerator": "GPU"
  },
  "cells": [
    {
      "cell_type": "markdown",
      "metadata": {
        "id": "view-in-github",
        "colab_type": "text"
      },
      "source": [
        "<a href=\"https://colab.research.google.com/github/karlijnbok/stylegan/blob/master/stylegan.ipynb\" target=\"_parent\"><img src=\"https://colab.research.google.com/assets/colab-badge.svg\" alt=\"Open In Colab\"/></a>"
      ]
    },
    {
      "cell_type": "code",
      "metadata": {
        "id": "4M9tTvRSL9Wj",
        "colab_type": "code",
        "outputId": "ce43f86c-67ad-4a61-ccb0-7ce33f3370f8",
        "colab": {
          "base_uri": "https://localhost:8080/",
          "height": 121
        }
      },
      "source": [
        "from google.colab import drive\n",
        "drive.mount('/content/drive')"
      ],
      "execution_count": 0,
      "outputs": [
        {
          "output_type": "stream",
          "text": [
            "Go to this URL in a browser: https://accounts.google.com/o/oauth2/auth?client_id=947318989803-6bn6qk8qdgf4n4g3pfee6491hc0brc4i.apps.googleusercontent.com&redirect_uri=urn%3aietf%3awg%3aoauth%3a2.0%3aoob&response_type=code&scope=email%20https%3a%2f%2fwww.googleapis.com%2fauth%2fdocs.test%20https%3a%2f%2fwww.googleapis.com%2fauth%2fdrive%20https%3a%2f%2fwww.googleapis.com%2fauth%2fdrive.photos.readonly%20https%3a%2f%2fwww.googleapis.com%2fauth%2fpeopleapi.readonly\n",
            "\n",
            "Enter your authorization code:\n",
            "··········\n",
            "Mounted at /content/drive\n"
          ],
          "name": "stdout"
        }
      ]
    },
    {
      "cell_type": "code",
      "metadata": {
        "id": "UmZKpzmPMIEx",
        "colab_type": "code",
        "outputId": "475ddc1c-6cc6-41ec-af3c-cdaea57efd98",
        "colab": {
          "base_uri": "https://localhost:8080/",
          "height": 34
        }
      },
      "source": [
        "%tensorflow_version 1.x\n",
        "import tensorflow as tf\n",
        "print(tf.__version__)"
      ],
      "execution_count": 0,
      "outputs": [
        {
          "output_type": "stream",
          "text": [
            "1.15.0\n"
          ],
          "name": "stdout"
        }
      ]
    },
    {
      "cell_type": "code",
      "metadata": {
        "id": "qU7D6Q3wOAQd",
        "colab_type": "code",
        "colab": {}
      },
      "source": [
        "# Find representations in latent space > saved in gen / enc folder\n",
        "%cd drive/'My Drive'/stylegan\n",
        "!python encode_images.py "
      ],
      "execution_count": 0,
      "outputs": []
    },
    {
      "cell_type": "code",
      "metadata": {
        "id": "H3g19CZGI4dB",
        "colab_type": "code",
        "colab": {}
      },
      "source": [
        "import os\n",
        "import numpy as np"
      ],
      "execution_count": 0,
      "outputs": []
    },
    {
      "cell_type": "code",
      "metadata": {
        "id": "WLC47QQyie98",
        "colab_type": "code",
        "outputId": "e6e5ab61-7027-42b6-c1c5-035cf9ae419b",
        "colab": {
          "base_uri": "https://localhost:8080/",
          "height": 50
        }
      },
      "source": [
        "%cd drive/'My Drive'/stylegan\n",
        "\n",
        "list = os.listdir('enc_ffhq') \n",
        "number_files = len(list)\n",
        "print(number_files)"
      ],
      "execution_count": 5,
      "outputs": [
        {
          "output_type": "stream",
          "text": [
            "/content/drive/My Drive/stylegan\n",
            "312\n"
          ],
          "name": "stdout"
        }
      ]
    },
    {
      "cell_type": "code",
      "metadata": {
        "id": "aDQTvR8diWyY",
        "colab_type": "code",
        "outputId": "7cfcb03f-4c72-45db-a20a-5727a07086b4",
        "colab": {
          "base_uri": "https://localhost:8080/",
          "height": 34
        }
      },
      "source": [
        "original_space = np.zeros((312, 18*512)) # (312, 9216)\n",
        "\n",
        "i = 0\n",
        "for enc in os.listdir('enc_ffhq'):\n",
        "  array = np.load('enc_ffhq/' + enc)  \n",
        "  original_space[i] = np.concatenate(array, axis=0)\n",
        "  i+=1\n",
        "\n",
        "print('done')"
      ],
      "execution_count": 6,
      "outputs": [
        {
          "output_type": "stream",
          "text": [
            "done\n"
          ],
          "name": "stdout"
        }
      ]
    },
    {
      "cell_type": "code",
      "metadata": {
        "id": "K8jRFI5_veV8",
        "colab_type": "code",
        "outputId": "4d4dac5b-7c54-4f57-d085-966d61b9fb1c",
        "colab": {
          "base_uri": "https://localhost:8080/",
          "height": 151
        }
      },
      "source": [
        "array = np.load('enc_ffhq/Rafd090_01_Caucasian_female_neutral_frontal_01.npy')\n",
        "print(array.shape)  \n",
        "print(array[0].shape)\n",
        "print(array[0,1])\n",
        "print(array[0,17])\n",
        "\n",
        "print('')\n",
        "\n",
        "concat = np.concatenate(array, axis=0)\n",
        "print(concat.shape)\n",
        "print(concat)\n"
      ],
      "execution_count": 11,
      "outputs": [
        {
          "output_type": "stream",
          "text": [
            "(18, 512)\n",
            "(512,)\n",
            "0.29669887\n",
            "0.043415967\n",
            "\n",
            "(9216,)\n",
            "[ 0.29669887  0.1293624   0.07152324 ... -0.12209591  0.17975794\n",
            "  0.27224806]\n"
          ],
          "name": "stdout"
        }
      ]
    },
    {
      "cell_type": "code",
      "metadata": {
        "id": "D02PUFjnb4sI",
        "colab_type": "code",
        "colab": {}
      },
      "source": [
        "def generate_image(latent_vector):\n",
        "    print(latent_vector.shape)\n",
        "    latent_vector = latent_vector.reshape((1, 18, 512))\n",
        "    generator.set_dlatents(latent_vector)\n",
        "    print(generator.get_dlatents().shape)\n",
        "    img_array = generator.generate_images()[0]\n",
        "    img = PIL.Image.fromarray(img_array, 'RGB')\n",
        "    return img.resize((256, 256))"
      ],
      "execution_count": 0,
      "outputs": []
    },
    {
      "cell_type": "code",
      "metadata": {
        "id": "vZs6ll1qijw1",
        "colab_type": "code",
        "colab": {}
      },
      "source": [
        ""
      ],
      "execution_count": 0,
      "outputs": []
    },
    {
      "cell_type": "code",
      "metadata": {
        "id": "sAj_Zg-kin5i",
        "colab_type": "code",
        "colab": {}
      },
      "source": [
        "# import pickle\n",
        "# import PIL.Image\n",
        "# import dnnlib\n",
        "# import dnnlib.tflib as tflib\n",
        "# import config\n",
        "# from encoder.generator_model import Generator\n",
        "\n",
        "# import matplotlib.pyplot as plt\n",
        "# %matplotlib inline"
      ],
      "execution_count": 0,
      "outputs": []
    },
    {
      "cell_type": "code",
      "metadata": {
        "id": "1og8gXJHiq2-",
        "colab_type": "code",
        "colab": {}
      },
      "source": [
        ""
      ],
      "execution_count": 0,
      "outputs": []
    }
  ]
}